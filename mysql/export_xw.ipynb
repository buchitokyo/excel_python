{
 "cells": [
  {
   "cell_type": "code",
   "execution_count": 1,
   "metadata": {},
   "outputs": [
    {
     "name": "stdout",
     "output_type": "stream",
     "text": [
      "<xlsxwriter.worksheet.Worksheet object at 0x7fb9bc024790>\n",
      "4 rows written successfully to グロービス学び放題フレッシャーズ集計エクセル.xlsx\n"
     ]
    }
   ],
   "source": [
    "import xlsxwriter\n",
    "import mysql.connector\n",
    "\n",
    "\n",
    "def fetch_table_data(table_name):\n",
    "    # The connect() constructor creates a connection to the MySQL server and returns a MySQLConnection object.\n",
    "    cnx = mysql.connector.connect(\n",
    "        host='db',\n",
    "        database='globis-dev',\n",
    "        user='root',\n",
    "        password='root'\n",
    "    )\n",
    "\n",
    "    cursor = cnx.cursor()\n",
    "    cursor.execute('select * from ' + table_name)\n",
    "\n",
    "    header = [row[0] for row in cursor.description]\n",
    "\n",
    "    rows = cursor.fetchall()\n",
    "\n",
    "    # Closing connection\n",
    "    cnx.close()\n",
    "\n",
    "    return header, rows\n",
    "\n",
    "\n",
    "def export(table_name):\n",
    "    # Create an new Excel file and add a worksheet.\n",
    "    workbook = xlsxwriter.Workbook('グロービス学び放題フレッシャーズ集計エクセル.xlsx')\n",
    "    worksheet = workbook.add_worksheet('R_ ①コース単位')\n",
    "    print(worksheet)\n",
    "    # worksheet = workbook.add_worksheet('MENU')\n",
    "\n",
    "    # Create style for cells\n",
    "    header, rows = fetch_table_data(table_name)\n",
    "    \n",
    "    body_cell_format = workbook.add_format({'border': False})\n",
    "\n",
    "    row_index = 0\n",
    "    column_index = 0\n",
    "\n",
    "    row_index += 1\n",
    "    for row in rows:\n",
    "        column_index = 0\n",
    "        for column in row:\n",
    "            worksheet.write(row_index, column_index, column, body_cell_format) # , body_cell_format\n",
    "            column_index += 1\n",
    "        row_index += 1\n",
    "\n",
    "    print(str(row_index) + ' rows written successfully to ' + workbook.filename)\n",
    "\n",
    "    # Closing workbook\n",
    "    workbook.close()\n",
    "\n",
    "\n",
    "# Tables to be exported\n",
    "export('maintenances')\n",
    "# export('TABLE_2')"
   ]
  }
 ],
 "metadata": {
  "kernelspec": {
   "display_name": "Python 3",
   "language": "python",
   "name": "python3"
  },
  "language_info": {
   "codemirror_mode": {
    "name": "ipython",
    "version": 3
   },
   "file_extension": ".py",
   "mimetype": "text/x-python",
   "name": "python",
   "nbconvert_exporter": "python",
   "pygments_lexer": "ipython3",
   "version": "3.7.4"
  }
 },
 "nbformat": 4,
 "nbformat_minor": 4
}
