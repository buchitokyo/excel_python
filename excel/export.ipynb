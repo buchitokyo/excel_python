{
 "cells": [
  {
   "cell_type": "code",
   "execution_count": 1,
   "metadata": {},
   "outputs": [
    {
     "ename": "ModuleNotFoundError",
     "evalue": "No module named 'mysql_connector'",
     "output_type": "error",
     "traceback": [
      "\u001b[0;31m\u001b[0m",
      "\u001b[0;31mModuleNotFoundError\u001b[0mTraceback (most recent call last)",
      "\u001b[0;32m<ipython-input-1-de86b24be042>\u001b[0m in \u001b[0;36m<module>\u001b[0;34m\u001b[0m\n\u001b[1;32m      4\u001b[0m \u001b[0;32mimport\u001b[0m \u001b[0mwarnings\u001b[0m\u001b[0;34m\u001b[0m\u001b[0;34m\u001b[0m\u001b[0m\n\u001b[1;32m      5\u001b[0m \u001b[0;32mimport\u001b[0m \u001b[0mtime\u001b[0m\u001b[0;34m\u001b[0m\u001b[0;34m\u001b[0m\u001b[0m\n\u001b[0;32m----> 6\u001b[0;31m \u001b[0;32mfrom\u001b[0m \u001b[0mmysql_connector\u001b[0m \u001b[0;32mimport\u001b[0m \u001b[0mMysqlConnector\u001b[0m\u001b[0;34m\u001b[0m\u001b[0;34m\u001b[0m\u001b[0m\n\u001b[0m\u001b[1;32m      7\u001b[0m \u001b[0;34m\u001b[0m\u001b[0m\n\u001b[1;32m      8\u001b[0m \u001b[0;34m\u001b[0m\u001b[0m\n",
      "\u001b[0;31mModuleNotFoundError\u001b[0m: No module named 'mysql_connector'"
     ]
    }
   ],
   "source": [
    "import sys\n",
    "sys.dont_write_bytecode = True\n",
    "import openpyxl\n",
    "from openpyxl.styles.fonts import Font\n",
    "from openpyxl.styles.borders import Border, Side\n",
    "import warnings\n",
    "import time\n",
    "from mysql_connector import MysqlConnector\n",
    "\n",
    "\n",
    "class Excel:\n",
    "\n",
    "    FILE: str = \"GLOBIS学び放題フレッシャーズ集計エクセル.xlsx\"\n",
    "    sheetNum: int = 0\n",
    "\n",
    "    def __init__(self, sheetNum):\n",
    "        self.sheetNum = sheetNum\n",
    "        warnings.filterwarnings('ignore', category=UserWarning, module='openpyxl')\n",
    "\n",
    "    def export(self, table_name):\n",
    "        start = time.perf_counter()\n",
    "        print('Start: ' + str(start))\n",
    "\n",
    "        wb = openpyxl.load_workbook(self.FILE)\n",
    "        print(\"Open file.\")\n",
    "\n",
    "        # switch sheet\n",
    "        wb, ws = Excel.switch(self, wb, self.sheetNum)\n",
    "\n",
    "        # fetch\n",
    "        sql = 'select * from ' + table_name\n",
    "        connect = MysqlConnector()\n",
    "        header, rows = connect.fetch(sql)\n",
    "        # print(rows)\n",
    "\n",
    "        # format\n",
    "        Excel.formatData(self, ws, rows)\n",
    "\n",
    "        wb.save(filename = self.FILE)\n",
    "        wb.close()\n",
    "\n",
    "        end = time.perf_counter()\n",
    "        print('End: ' + str(start))\n",
    "        print(end - start)\n",
    "\n",
    "    def switch(self, wb, num):\n",
    "        ws = wb.worksheets[num]\n",
    "        return wb, ws\n",
    "\n",
    "    def formatData(self, ws, rows):\n",
    "        row_index = 1\n",
    "        row_index += 1\n",
    "        for row in rows:\n",
    "            column_index = 1\n",
    "\n",
    "            # dict\n",
    "            for column in row.values():\n",
    "                # print(column)\n",
    "                cell = ws.cell(row = row_index, column = column_index)\n",
    "                cell.value = column\n",
    "\n",
    "                column_index += 1\n",
    "            row_index += 1\n",
    "\n",
    "        print(str(row_index) + ' rows written successfully to ' + self.FILE)\n",
    "        return\n",
    "\n",
    "    if __name__ == \"__main__\":\n",
    "        print(\"export\")"
   ]
  }
 ],
 "metadata": {
  "kernelspec": {
   "display_name": "Python 3",
   "language": "python",
   "name": "python3"
  },
  "language_info": {
   "codemirror_mode": {
    "name": "ipython",
    "version": 3
   },
   "file_extension": ".py",
   "mimetype": "text/x-python",
   "name": "python",
   "nbconvert_exporter": "python",
   "pygments_lexer": "ipython3",
   "version": "3.7.4"
  }
 },
 "nbformat": 4,
 "nbformat_minor": 4
}
