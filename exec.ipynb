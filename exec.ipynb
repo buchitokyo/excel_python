{
 "cells": [
  {
   "cell_type": "code",
   "execution_count": 4,
   "metadata": {},
   "outputs": [
    {
     "name": "stdout",
     "output_type": "stream",
     "text": [
      "Start: 36831.749830585\n",
      "Open file.\n",
      "Connected with DB.\n",
      "Data fetching...\n",
      "5 rows written successfully to GLOBIS学び放題フレッシャーズ集計エクセル.xlsx\n",
      "End: 36831.749830585\n",
      "38.949874699996144\n"
     ]
    }
   ],
   "source": [
    "import sys\n",
    "sys.dont_write_bytecode = True\n",
    "sys.path.append(\"/work/mysql\")\n",
    "sys.path.append(\"/work/excel\")\n",
    "from mysql_connector import MysqlConnector\n",
    "from export import Excel\n",
    "\n",
    "spreadsheet = Excel()\n",
    "spreadsheet.export('maintenances')"
   ]
  },
  {
   "cell_type": "code",
   "execution_count": null,
   "metadata": {},
   "outputs": [],
   "source": []
  }
 ],
 "metadata": {
  "kernelspec": {
   "display_name": "Python 3",
   "language": "python",
   "name": "python3"
  },
  "language_info": {
   "codemirror_mode": {
    "name": "ipython",
    "version": 3
   },
   "file_extension": ".py",
   "mimetype": "text/x-python",
   "name": "python",
   "nbconvert_exporter": "python",
   "pygments_lexer": "ipython3",
   "version": "3.7.4"
  }
 },
 "nbformat": 4,
 "nbformat_minor": 4
}
