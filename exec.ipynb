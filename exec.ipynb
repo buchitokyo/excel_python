{
 "cells": [
  {
   "cell_type": "code",
   "execution_count": 1,
   "metadata": {},
   "outputs": [
    {
     "name": "stdout",
     "output_type": "stream",
     "text": [
      "Start: 117.052264106\n",
      "Open file.\n",
      "Connected with DB.\n",
      "Data fetching...\n",
      "5 rows written successfully to GLOBIS学び放題フレッシャーズ集計エクセル.xlsx\n",
      "End: 117.052264106\n",
      "35.528725691000005\n"
     ]
    }
   ],
   "source": [
    "import sys\n",
    "sys.dont_write_bytecode = True\n",
    "sys.path.append(\"/work/mysql\")\n",
    "sys.path.append(\"/work/excel\")\n",
    "from mysql_connector import MysqlConnector\n",
    "from export import Excel\n",
    "\n",
    "# sheet num\n",
    "spreadsheet = Excel(2)\n",
    "spreadsheet.export('maintenances')"
   ]
  },
  {
   "cell_type": "code",
   "execution_count": null,
   "metadata": {},
   "outputs": [],
   "source": []
  }
 ],
 "metadata": {
  "kernelspec": {
   "display_name": "Python 3",
   "language": "python",
   "name": "python3"
  },
  "language_info": {
   "codemirror_mode": {
    "name": "ipython",
    "version": 3
   },
   "file_extension": ".py",
   "mimetype": "text/x-python",
   "name": "python",
   "nbconvert_exporter": "python",
   "pygments_lexer": "ipython3",
   "version": "3.7.4"
  }
 },
 "nbformat": 4,
 "nbformat_minor": 4
}
